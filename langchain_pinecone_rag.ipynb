{
 "cells": [
  {
   "cell_type": "code",
   "id": "initial_id",
   "metadata": {
    "collapsed": true
   },
   "source": [
    "%pip install numpy\n",
    "%pip install pandas\n",
    "%pip install scikit-learn   \n",
    "%pip install matplotlib\n",
    "%pip install tensorflow\n",
    "%pip install langchain\n",
    "%pip install langchain-community\n",
    "%pip install pinecone-client\n",
    "%pip install -qU langchain-pinecone pinecone-notebooks\n",
    "%pip install -qU langchain-openai\n",
    "%pip install -qU langchain-text-splitters\n",
    "%pip install glob2\n",
    "%pip install unstructured\n",
    "%pip install nltk\n",
    "%pip install ipython-secrets"
   ],
   "outputs": [],
   "execution_count": null
  },
  {
   "metadata": {},
   "cell_type": "code",
   "source": "!git clone https://github.com/kiritbasu/Fake-Apache-Log-Generator",
   "id": "79a8a8bca30d24bc",
   "outputs": [],
   "execution_count": null
  },
  {
   "metadata": {
    "ExecuteTime": {
     "end_time": "2024-08-23T11:36:02.789762Z",
     "start_time": "2024-08-23T11:35:57.686981Z"
    }
   },
   "cell_type": "code",
   "source": [
    "import glob\n",
    "import nltk\n",
    "import unstructured\n",
    "import pandas as pd\n",
    "import numpy as np\n",
    "from langchain_pinecone import PineconeVectorStore\n",
    "from langchain_openai import OpenAIEmbeddings\n",
    "from langchain_community.document_loaders import DirectoryLoader\n",
    "from langchain_text_splitters import RecursiveCharacterTextSplitter"
   ],
   "id": "10383840405aa080",
   "outputs": [],
   "execution_count": 3
  },
  {
   "metadata": {},
   "cell_type": "markdown",
   "source": [
    "127.0.0.1 - Scott [10/Dec/2019:13:55:36 -0700] \"GET /server-status HTTP/1.1\" 200 2326\n",
    "\n",
    "Yukarıdaki log line apache common log formatına örnektir, bu formatta logları yukarıda çektiğim Fake-Apache-Log-Generator reposundan generateleyip üzerinde çalışacağım\n",
    "\n",
    "    127.0.0.1 - IP address of the client that made the request;\n",
    "    The hyphen defining the second field in the log file is the identity of the client. This field is often returned as a hyphen and Apache’s HTTP server documentation recommends that this particular field not be relied upon except in the case of a controlled internal network.\n",
    "    Scott - userid of the person requesting the resource;\n",
    "    [10/Dec/2019:13:55:36 -0700] - date and time of the request;\n",
    "    “GET /server-status HTTP/1.1\" - request type and resource being requested;\n",
    "    200 - HTTP response status code;\n",
    "    2326 - size of the object returned to the client.\n",
    "\n"
   ],
   "id": "f7387863154c1cc1"
  },
  {
   "metadata": {
    "ExecuteTime": {
     "end_time": "2024-08-23T11:36:02.801546Z",
     "start_time": "2024-08-23T11:36:02.793645Z"
    }
   },
   "cell_type": "code",
   "source": "loader = DirectoryLoader(\"Fake-Apache-Log-Generator\", glob = \"*.log\")",
   "id": "f697e6ae9d8e13c8",
   "outputs": [],
   "execution_count": 4
  },
  {
   "metadata": {
    "ExecuteTime": {
     "end_time": "2024-08-23T11:54:55.766781Z",
     "start_time": "2024-08-23T11:36:02.804328Z"
    }
   },
   "cell_type": "code",
   "source": "logs = loader.load()",
   "id": "a9bc77c45018b5fd",
   "outputs": [],
   "execution_count": 5
  },
  {
   "metadata": {},
   "cell_type": "code",
   "source": "logs[0]",
   "id": "f116fa79ec981a0a",
   "outputs": [],
   "execution_count": null
  },
  {
   "metadata": {},
   "cell_type": "markdown",
   "source": "Vectordb olarak pinecone ve llm olarak da chatgpt 3.5 turbo kullandığım için bu notebookun çalışabilmesi için ikisi için de bir api key gerektirmekte.",
   "id": "652b8ce460c65b53"
  },
  {
   "metadata": {},
   "cell_type": "markdown",
   "source": "",
   "id": "6363418a28239834"
  },
  {
   "metadata": {
    "ExecuteTime": {
     "end_time": "2024-08-23T11:54:56.169765Z",
     "start_time": "2024-08-23T11:54:55.842901Z"
    }
   },
   "cell_type": "code",
   "source": [
    "from ipython_secrets import *\n",
    "import openai\n",
    "import os\n",
    "PINECONE_API_KEY = get_secret(\"PINECONE_API_KEY\")\n",
    "OPENAI_API_KEY = get_secret(\"OPENAI_API_KEY\")\n",
    "os.environ['OPENAI_API_KEY'] = OPENAI_API_KEY\n",
    "os.environ['PINECONE_API_KEY'] = PINECONE_API_KEY"
   ],
   "id": "7442e5fa16bc2c23",
   "outputs": [],
   "execution_count": 7
  },
  {
   "metadata": {
    "ExecuteTime": {
     "end_time": "2024-08-23T11:54:56.209792Z",
     "start_time": "2024-08-23T11:54:56.171818Z"
    }
   },
   "cell_type": "code",
   "source": [
    "embeddings = OpenAIEmbeddings(\n",
    "    model = \"text-embedding-3-small\"\n",
    ")\n",
    "index_name = \"pineconerag\""
   ],
   "id": "bcde83081613718d",
   "outputs": [],
   "execution_count": 8
  },
  {
   "metadata": {
    "ExecuteTime": {
     "end_time": "2024-08-23T11:54:56.245189Z",
     "start_time": "2024-08-23T11:54:56.212553Z"
    }
   },
   "cell_type": "code",
   "source": [
    "text_splitter = RecursiveCharacterTextSplitter()\n",
    "split_docs = text_splitter.split_documents(logs)"
   ],
   "id": "f97faad9e4db0b94",
   "outputs": [],
   "execution_count": 9
  },
  {
   "metadata": {},
   "cell_type": "code",
   "source": "split_docs[25]",
   "id": "3a2084f80be570a7",
   "outputs": [],
   "execution_count": null
  },
  {
   "metadata": {
    "ExecuteTime": {
     "end_time": "2024-08-23T12:59:26.383050Z",
     "start_time": "2024-08-23T12:58:50.571902Z"
    }
   },
   "cell_type": "code",
   "source": "vectorStore = PineconeVectorStore.from_documents(split_docs, embeddings, index_name = index_name)",
   "id": "463edb08f79114b5",
   "outputs": [],
   "execution_count": 57
  },
  {
   "metadata": {},
   "cell_type": "markdown",
   "source": "Bütün sorguları aynı string değişkeniyle atıyorum: query",
   "id": "9585d9a7896d84de"
  },
  {
   "metadata": {
    "ExecuteTime": {
     "end_time": "2024-08-23T12:59:34.761967Z",
     "start_time": "2024-08-23T12:59:32.988854Z"
    }
   },
   "cell_type": "code",
   "source": [
    "query = \"Whats the IP adress that posted a PUT command in 04/Sep/2024:03:08:37\"\n",
    "similar_docs = vectorStore.similarity_search(query)"
   ],
   "id": "ab224e0de8d30875",
   "outputs": [],
   "execution_count": 58
  },
  {
   "metadata": {},
   "cell_type": "code",
   "source": "similar_docs[0]",
   "id": "3d741cece90a3c2f",
   "outputs": [],
   "execution_count": null
  },
  {
   "metadata": {},
   "cell_type": "markdown",
   "source": "Geri döndürülen dosyada 04/Sep/2024:03:08:37 tarihinde PUT requesti atıldığını görebiliyoruz",
   "id": "d187c48c74cf4b9f"
  },
  {
   "metadata": {
    "ExecuteTime": {
     "end_time": "2024-08-23T13:00:04.797157Z",
     "start_time": "2024-08-23T13:00:04.750946Z"
    }
   },
   "cell_type": "code",
   "source": [
    "from langchain_openai import ChatOpenAI\n",
    "from langchain.chains import RetrievalQA\n",
    "from langchain.chains.question_answering import load_qa_chain\n",
    "\n",
    "llm = ChatOpenAI(model=\"gpt-3.5-turbo\",temperature = 0)\n",
    "qa_chain = load_qa_chain(llm, chain_type=\"stuff\")\n",
    "\n",
    "qa = RetrievalQA(combine_documents_chain=qa_chain, retriever=vectorStore.as_retriever())"
   ],
   "id": "93fca123f9821a29",
   "outputs": [],
   "execution_count": 60
  },
  {
   "metadata": {
    "ExecuteTime": {
     "end_time": "2024-08-23T13:00:09.171545Z",
     "start_time": "2024-08-23T13:00:06.375470Z"
    }
   },
   "cell_type": "code",
   "source": "response = qa.run(query)",
   "id": "510686d56f5dc047",
   "outputs": [],
   "execution_count": 61
  },
  {
   "metadata": {},
   "cell_type": "markdown",
   "source": "Görüldüğü üzere de llmimiz (chat 3.5 turbo) sistemdeki herhangi bir dosyaya ulaşamadığı için default bir cevap veriyor",
   "id": "64576fb74f75f1b3"
  }
 ],
 "metadata": {
  "kernelspec": {
   "display_name": "Python 3",
   "language": "python",
   "name": "python3"
  },
  "language_info": {
   "codemirror_mode": {
    "name": "ipython",
    "version": 2
   },
   "file_extension": ".py",
   "mimetype": "text/x-python",
   "name": "python",
   "nbconvert_exporter": "python",
   "pygments_lexer": "ipython2",
   "version": "2.7.6"
  }
 },
 "nbformat": 4,
 "nbformat_minor": 5
}
